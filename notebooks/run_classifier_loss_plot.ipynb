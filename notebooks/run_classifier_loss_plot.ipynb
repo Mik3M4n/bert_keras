{
 "cells": [
  {
   "cell_type": "code",
   "execution_count": 0,
   "metadata": {
    "colab": {
     "base_uri": "https://localhost:8080/",
     "height": 34
    },
    "colab_type": "code",
    "id": "T_bGEdvJxb6c",
    "outputId": "816e0b73-3082-43c6-aa94-c90f5c0c88ad"
   },
   "outputs": [
    {
     "name": "stdout",
     "output_type": "stream",
     "text": [
      "Found GPU at: /device:GPU:0\n"
     ]
    }
   ],
   "source": [
    "import tensorflow as tf\n",
    "device_name = tf.test.gpu_device_name()\n",
    "if device_name != '/device:GPU:0':\n",
    "  raise SystemError('GPU device not found')\n",
    "print('Found GPU at: {}'.format(device_name))"
   ]
  },
  {
   "cell_type": "code",
   "execution_count": 0,
   "metadata": {
    "colab": {
     "base_uri": "https://localhost:8080/",
     "height": 819
    },
    "colab_type": "code",
    "id": "ciA60L1THajt",
    "outputId": "0ede80ed-f5cb-4517-b80b-f89db7e20fa7"
   },
   "outputs": [
    {
     "name": "stdout",
     "output_type": "stream",
     "text": [
      "Collecting livelossplot\n",
      "  Downloading https://files.pythonhosted.org/packages/5d/ea/1d563c861ab2b195033387d1095c4ed40fcd5275014246641af175bd573f/livelossplot-0.3.0.tar.gz\n",
      "Requirement already satisfied: matplotlib in /usr/local/lib/python3.6/dist-packages (from livelossplot) (3.0.2)\n",
      "Requirement already satisfied: notebook in /usr/local/lib/python3.6/dist-packages (from livelossplot) (5.2.2)\n",
      "Requirement already satisfied: pyparsing!=2.0.4,!=2.1.2,!=2.1.6,>=2.0.1 in /usr/local/lib/python3.6/dist-packages (from matplotlib->livelossplot) (2.3.1)\n",
      "Requirement already satisfied: python-dateutil>=2.1 in /usr/local/lib/python3.6/dist-packages (from matplotlib->livelossplot) (2.5.3)\n",
      "Requirement already satisfied: kiwisolver>=1.0.1 in /usr/local/lib/python3.6/dist-packages (from matplotlib->livelossplot) (1.0.1)\n",
      "Requirement already satisfied: cycler>=0.10 in /usr/local/lib/python3.6/dist-packages (from matplotlib->livelossplot) (0.10.0)\n",
      "Requirement already satisfied: numpy>=1.10.0 in /usr/local/lib/python3.6/dist-packages (from matplotlib->livelossplot) (1.14.6)\n",
      "Requirement already satisfied: jinja2 in /usr/local/lib/python3.6/dist-packages (from notebook->livelossplot) (2.10)\n",
      "Requirement already satisfied: tornado>=4 in /usr/local/lib/python3.6/dist-packages (from notebook->livelossplot) (4.5.3)\n",
      "Requirement already satisfied: nbformat in /usr/local/lib/python3.6/dist-packages (from notebook->livelossplot) (4.4.0)\n",
      "Requirement already satisfied: jupyter-core in /usr/local/lib/python3.6/dist-packages (from notebook->livelossplot) (4.4.0)\n",
      "Requirement already satisfied: ipython-genutils in /usr/local/lib/python3.6/dist-packages (from notebook->livelossplot) (0.2.0)\n",
      "Requirement already satisfied: nbconvert in /usr/local/lib/python3.6/dist-packages (from notebook->livelossplot) (5.4.0)\n",
      "Requirement already satisfied: traitlets>=4.2.1 in /usr/local/lib/python3.6/dist-packages (from notebook->livelossplot) (4.3.2)\n",
      "Requirement already satisfied: terminado>=0.3.3; sys_platform != \"win32\" in /usr/local/lib/python3.6/dist-packages (from notebook->livelossplot) (0.8.1)\n",
      "Requirement already satisfied: ipykernel in /usr/local/lib/python3.6/dist-packages (from notebook->livelossplot) (4.6.1)\n",
      "Requirement already satisfied: jupyter-client in /usr/local/lib/python3.6/dist-packages (from notebook->livelossplot) (5.2.4)\n",
      "Requirement already satisfied: six>=1.5 in /usr/local/lib/python3.6/dist-packages (from python-dateutil>=2.1->matplotlib->livelossplot) (1.11.0)\n",
      "Requirement already satisfied: setuptools in /usr/local/lib/python3.6/dist-packages (from kiwisolver>=1.0.1->matplotlib->livelossplot) (40.6.3)\n",
      "Requirement already satisfied: MarkupSafe>=0.23 in /usr/local/lib/python3.6/dist-packages (from jinja2->notebook->livelossplot) (1.1.0)\n",
      "Requirement already satisfied: jsonschema!=2.5.0,>=2.4 in /usr/local/lib/python3.6/dist-packages (from nbformat->notebook->livelossplot) (2.6.0)\n",
      "Requirement already satisfied: pygments in /usr/local/lib/python3.6/dist-packages (from nbconvert->notebook->livelossplot) (2.1.3)\n",
      "Requirement already satisfied: pandocfilters>=1.4.1 in /usr/local/lib/python3.6/dist-packages (from nbconvert->notebook->livelossplot) (1.4.2)\n",
      "Requirement already satisfied: bleach in /usr/local/lib/python3.6/dist-packages (from nbconvert->notebook->livelossplot) (3.1.0)\n",
      "Requirement already satisfied: defusedxml in /usr/local/lib/python3.6/dist-packages (from nbconvert->notebook->livelossplot) (0.5.0)\n",
      "Requirement already satisfied: mistune>=0.8.1 in /usr/local/lib/python3.6/dist-packages (from nbconvert->notebook->livelossplot) (0.8.4)\n",
      "Requirement already satisfied: testpath in /usr/local/lib/python3.6/dist-packages (from nbconvert->notebook->livelossplot) (0.4.2)\n",
      "Requirement already satisfied: entrypoints>=0.2.2 in /usr/local/lib/python3.6/dist-packages (from nbconvert->notebook->livelossplot) (0.3)\n",
      "Requirement already satisfied: decorator in /usr/local/lib/python3.6/dist-packages (from traitlets>=4.2.1->notebook->livelossplot) (4.3.0)\n",
      "Requirement already satisfied: ptyprocess; os_name != \"nt\" in /usr/local/lib/python3.6/dist-packages (from terminado>=0.3.3; sys_platform != \"win32\"->notebook->livelossplot) (0.6.0)\n",
      "Requirement already satisfied: ipython>=4.0.0 in /usr/local/lib/python3.6/dist-packages (from ipykernel->notebook->livelossplot) (5.5.0)\n",
      "Requirement already satisfied: pyzmq>=13 in /usr/local/lib/python3.6/dist-packages (from jupyter-client->notebook->livelossplot) (17.0.0)\n",
      "Requirement already satisfied: webencodings in /usr/local/lib/python3.6/dist-packages (from bleach->nbconvert->notebook->livelossplot) (0.5.1)\n",
      "Requirement already satisfied: prompt-toolkit<2.0.0,>=1.0.4 in /usr/local/lib/python3.6/dist-packages (from ipython>=4.0.0->ipykernel->notebook->livelossplot) (1.0.15)\n",
      "Requirement already satisfied: simplegeneric>0.8 in /usr/local/lib/python3.6/dist-packages (from ipython>=4.0.0->ipykernel->notebook->livelossplot) (0.8.1)\n",
      "Requirement already satisfied: pexpect; sys_platform != \"win32\" in /usr/local/lib/python3.6/dist-packages (from ipython>=4.0.0->ipykernel->notebook->livelossplot) (4.6.0)\n",
      "Requirement already satisfied: pickleshare in /usr/local/lib/python3.6/dist-packages (from ipython>=4.0.0->ipykernel->notebook->livelossplot) (0.7.5)\n",
      "Requirement already satisfied: wcwidth in /usr/local/lib/python3.6/dist-packages (from prompt-toolkit<2.0.0,>=1.0.4->ipython>=4.0.0->ipykernel->notebook->livelossplot) (0.1.7)\n",
      "Building wheels for collected packages: livelossplot\n",
      "  Running setup.py bdist_wheel for livelossplot ... \u001b[?25l-\b \bdone\n",
      "\u001b[?25h  Stored in directory: /root/.cache/pip/wheels/bf/66/07/e3129f723b6b36ee4affde650ad6843fceaf5c2fa5dc29b986\n",
      "Successfully built livelossplot\n",
      "Installing collected packages: livelossplot\n",
      "Successfully installed livelossplot-0.3.0\n"
     ]
    }
   ],
   "source": [
    "! pip install livelossplot"
   ]
  },
  {
   "cell_type": "code",
   "execution_count": 0,
   "metadata": {
    "colab": {
     "base_uri": "https://localhost:8080/",
     "height": 85
    },
    "colab_type": "code",
    "id": "9xh0G37AGWyZ",
    "outputId": "a4404703-343c-4e2d-bcd8-306b8499ea01"
   },
   "outputs": [
    {
     "name": "stderr",
     "output_type": "stream",
     "text": [
      "Using TensorFlow backend.\n"
     ]
    },
    {
     "name": "stdout",
     "output_type": "stream",
     "text": [
      "[nltk_data] Downloading package stopwords to /root/nltk_data...\n",
      "[nltk_data]   Package stopwords is already up-to-date!\n"
     ]
    },
    {
     "data": {
      "text/plain": [
       "True"
      ]
     },
     "execution_count": 3,
     "metadata": {
      "tags": []
     },
     "output_type": "execute_result"
    }
   ],
   "source": [
    "import livelossplot\n",
    "from run_classifier import *\n",
    "import tokenization\n",
    "import random\n",
    "import pandas as pd\n",
    "\n",
    "np.random.seed(112)\n",
    "random.seed(112)\n",
    "\n",
    "\n",
    "import nltk\n",
    "nltk.download('stopwords')"
   ]
  },
  {
   "cell_type": "code",
   "execution_count": 0,
   "metadata": {
    "colab": {},
    "colab_type": "code",
    "collapsed": true,
    "id": "w2dh3GbeFnmM"
   },
   "outputs": [],
   "source": [
    "class args_class(object):\n",
    "  def __init__(self, data_dir, task_name, model_dir,\\\n",
    "              num_classes, batch_size, learning_rate,\\\n",
    "              output_file,max_sequence_length, num_train_epochs):\n",
    "    \n",
    "    self.data_dir=data_dir\n",
    "    self.task_name=task_name\n",
    "    self.model_dir=model_dir\n",
    "    self.num_classes=num_classes\n",
    "    self.batch_size=batch_size\n",
    "    self.learning_rate=learning_rate\n",
    "    self.output_file=output_file\n",
    "    self.max_sequence_length=max_sequence_length\n",
    "    self.num_train_epochs=num_train_epochs\n",
    "    \n",
    "    \n",
    "class BERTClassifierLive(BERTClassifier):\n",
    "  \n",
    "  def __init__(self, bert_path, input_file=None, input_list=[], \\\n",
    "                     num_classes=2, labels=None, \\\n",
    "                     Verbose=False, dummy=False, \\\n",
    "                     split_train_test=True, test_size=0.1, val_size=0.1, batch_size=32, epochs=30, max_seq_length=128, \\\n",
    "                     learning_rate=0.003,use_dropout=True,dropout_prob=0.1,max_delay=50, **kwargs):\n",
    "      \n",
    "      super().__init__(bert_path=bert_path, input_file=input_file, input_list=input_list, \\\n",
    "                     num_classes=num_classes, labels=labels, \\\n",
    "                     Verbose=Verbose, dummy=dummy, \\\n",
    "                     split_train_test=split_train_test, test_size=test_size,val_size=val_size, epochs=epochs, batch_size=batch_size, max_seq_length=max_seq_length, \\\n",
    "                     learning_rate=learning_rate, use_dropout=use_dropout,dropout_prob=dropout_prob,max_delay=max_delay, **kwargs)\n",
    "    \n",
    "  \n",
    "  def train(self, batch_size=32, validation_split=0.1):\n",
    "       \n",
    "      self.model.fit(x=self.data.data_train, y=self.data.labels_train,\\\n",
    "                          validation_split=validation_split,\\\n",
    "                           epochs=self.epochs, batch_size=batch_size, verbose=1,\n",
    "                           callbacks=self.callbacks+[livelossplot.PlotLossesKeras()])"
   ]
  },
  {
   "cell_type": "code",
   "execution_count": 0,
   "metadata": {
    "colab": {
     "base_uri": "https://localhost:8080/",
     "height": 884
    },
    "colab_type": "code",
    "id": "DMfHQSk3WNCM",
    "outputId": "b53ad871-bffa-429d-d0f9-edd9bbd0befa"
   },
   "outputs": [
    {
     "name": "stdout",
     "output_type": "stream",
     "text": [
      "Loading SST2 dataset .... \n",
      "Sentences and labels shape:\n",
      "(30000,)\n",
      "(30000,)\n",
      "Generating tokens for BERT...\n",
      "Bert tokens generated with shape : (30000, 4, 128)\n",
      "Shape of labels (BEFORE one-hot encoding): (30000,)\n",
      "Shape of labels (AFTER  one-hot encoding): (30000, 2)\n",
      "\n",
      "Training data set size  (27000, 4, 128)\n",
      "Test data set size  (3000, 4, 128)\n",
      "\n",
      " Loading BERT Embeddings...\n",
      "------ BERT model initialized. \n",
      "------ Filling with pre-trained weights... \n",
      "------  Filled. \n",
      " \n",
      "Bert built\n",
      "Dropout built with dropout prob  0.1\n",
      "Dense built\n",
      "Model defined\n",
      "\n",
      " ------ Model architecture: sequential\n",
      "__________________________________________________________________________________________\n",
      "Layer (type)                            Output Shape                        Param #       \n",
      "==========================================================================================\n",
      "pre_trained_bert_model_1 (PreTrainedBer (None, 768)                         0             \n",
      "__________________________________________________________________________________________\n",
      "dropout_37 (Dropout)                    (None, 768)                         0             \n",
      "__________________________________________________________________________________________\n",
      "dense_74 (Dense)                        (None, 2)                           1538          \n",
      "==========================================================================================\n",
      "Total params: 1,538\n",
      "Trainable params: 1,538\n",
      "Non-trainable params: 0\n",
      "__________________________________________________________________________________________\n",
      "None\n",
      "\n",
      " ------ Model architecture: full\n",
      "__________________________________________________________________________________________\n",
      "Layer (type)                            Output Shape                        Param #       \n",
      "==========================================================================================\n",
      "input (InputLayer)                      (None, 4, 128)                      0             \n",
      "__________________________________________________________________________________________\n",
      "sequential_2 (Sequential)               (None, 2)                           1538          \n",
      "==========================================================================================\n",
      "Total params: 1,538\n",
      "Trainable params: 1,538\n",
      "Non-trainable params: 0\n",
      "__________________________________________________________________________________________\n",
      "None\n"
     ]
    }
   ],
   "source": [
    "args = args_class(data_dir='data/sentiment_dataset/', \\\n",
    "      task_name='SST2', \\\n",
    "      model_dir='pre_trained_models/eng_embeddings/uncased_L-12_H-768_A-12/', \\\n",
    "      num_classes=2,\\\n",
    "      batch_size=32, \\\n",
    "      learning_rate=8e-5, \\\n",
    "      output_file='results/test_classifier_28dec_full_lr9e-5.h5',\\\n",
    "      max_sequence_length=128,\\\n",
    "      num_train_epochs=30)\n",
    " \n",
    "\n",
    "\n",
    "sentences, labels = load_dataset(args.data_dir, task_name=args.task_name, sample=True, sample_size=30000)\n",
    "\n",
    "\n",
    "model = BERTClassifierLive(bert_path=args.model_dir, input_list=sentences, \\\n",
    "                           num_classes=args.num_classes,\\\n",
    "                           batch_size= args.batch_size, \\\n",
    "                           labels=labels, \\\n",
    "                           Verbose=True, \\\n",
    "                           dummy=False,\n",
    "                           learning_rate=args.learning_rate, epochs=args.num_train_epochs,\\\n",
    "                           use_dropout=True, dropout_prob=0.1, max_delay=5, test_size=0.1)\n"
   ]
  },
  {
   "cell_type": "code",
   "execution_count": 6,
   "metadata": {
    "colab": {
     "base_uri": "https://localhost:8080/",
     "height": 441
    },
    "colab_type": "code",
    "id": "myus3OtTsR9N",
    "outputId": "81e22533-e1e3-4b50-f4c5-7e56bb3ebb4a"
   },
   "outputs": [
    {
     "data": {
      "image/png": "[encoded data removed]",
      "text/plain": [
       "<Figure size 864x576 with 2 Axes>"
      ]
     },
     "metadata": {
      "tags": []
     },
     "output_type": "display_data"
    },
    {
     "name": "stdout",
     "output_type": "stream",
     "text": [
      "Log-loss (cost function):\n",
      "training   (min:    0.515, max:    0.718, cur:    0.516)\n",
      "validation (min:    0.468, max:    0.680, cur:    0.468)\n",
      "\n",
      "Accuracy:\n",
      "training   (min:    0.500, max:    0.755, cur:    0.754)\n",
      "validation (min:    0.581, max:    0.805, cur:    0.805)\n"
     ]
    }
   ],
   "source": [
    "print(\"Training model....\")\n",
    "model.train(batch_size=args.batch_size, validation_split=0.15)"
   ]
  },
  {
   "cell_type": "code",
   "execution_count": null,
   "metadata": {
    "collapsed": true
   },
   "outputs": [],
   "source": [
    "res = model.evaluate()\n",
    "print(res)"
   ]
  },
  {
   "cell_type": "code",
   "execution_count": 0,
   "metadata": {
    "colab": {},
    "colab_type": "code",
    "collapsed": true,
    "id": "GHu6WxKRF8t3"
   },
   "outputs": [],
   "source": [
    "print(\"Saving to: \", args.output_file)\n",
    "model.save(args.output_file)\n",
    "print(\"Done.\")\n",
    "\n"
   ]
  }
 ],
 "metadata": {
  "accelerator": "GPU",
  "colab": {
   "collapsed_sections": [
    "ecMbCJJ7fxWO",
    "zqEa2BeWVouS",
    "6LxzWOOXkN5J",
    "KXZYSW8ZkRVm"
   ],
   "name": "run_classifier_loss_plot.ipynb",
   "provenance": [],
   "version": "0.3.2"
  },
  "kernelspec": {
   "display_name": "Python 3",
   "language": "python",
   "name": "python3"
  },
  "language_info": {
   "codemirror_mode": {
    "name": "ipython",
    "version": 3
   },
   "file_extension": ".py",
   "mimetype": "text/x-python",
   "name": "python",
   "nbconvert_exporter": "python",
   "pygments_lexer": "ipython3",
   "version": "3.7.3"
  }
 },
 "nbformat": 4,
 "nbformat_minor": 1
}
